{
 "cells": [
  {
   "cell_type": "code",
   "execution_count": 184,
   "metadata": {},
   "outputs": [],
   "source": [
    "import sys\n",
    "sys.path.append('helpers/')\n",
    "\n",
    "from pprint import pprint\n",
    "import scipy.io as scio\n",
    "from eegdProcessors import getEpochsDataFromRaw"
   ]
  },
  {
   "cell_type": "code",
   "execution_count": 185,
   "metadata": {},
   "outputs": [],
   "source": [
    "eeg_1s_raw = scio.loadmat('./data/subject_1_eeg_separated_epochs_1s.mat')"
   ]
  },
  {
   "cell_type": "code",
   "execution_count": 186,
   "metadata": {},
   "outputs": [
    {
     "name": "stdout",
     "output_type": "stream",
     "text": [
      "SETNAME>  EEG target\n",
      "DATA SHAPE>  (16, 512, 305)\n",
      "SETNAME>  EEG non-target\n",
      "DATA SHAPE>  (16, 512, 6447)\n"
     ]
    }
   ],
   "source": [
    "target_data = getEpochsDataFromRaw(eeg_1s_raw, 0)\n",
    "nonTarget_data = getEpochsDataFromRaw(eeg_1s_raw, 1)"
   ]
  }
 ],
 "metadata": {
  "kernelspec": {
   "display_name": "Python 3.9.10 64-bit",
   "language": "python",
   "name": "python3"
  },
  "language_info": {
   "codemirror_mode": {
    "name": "ipython",
    "version": 3
   },
   "file_extension": ".py",
   "mimetype": "text/x-python",
   "name": "python",
   "nbconvert_exporter": "python",
   "pygments_lexer": "ipython3",
   "version": "3.9.10"
  },
  "orig_nbformat": 4,
  "vscode": {
   "interpreter": {
    "hash": "aee8b7b246df8f9039afb4144a1f6fd8d2ca17a180786b69acc140d282b71a49"
   }
  }
 },
 "nbformat": 4,
 "nbformat_minor": 2
}
