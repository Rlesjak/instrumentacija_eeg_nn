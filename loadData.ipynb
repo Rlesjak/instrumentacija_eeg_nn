{
 "cells": [
  {
   "cell_type": "code",
   "execution_count": 89,
   "metadata": {},
   "outputs": [],
   "source": [
    "import sys\n",
    "sys.path.append('helpers/')\n",
    "\n",
    "from pprint import pprint\n",
    "import scipy.io as scio\n",
    "from torch.utils.data import Dataset, DataLoader\n",
    "from eegdProcessors import getEpochsDataFromRaw\n",
    "import random"
   ]
  },
  {
   "cell_type": "code",
   "execution_count": 90,
   "metadata": {},
   "outputs": [],
   "source": [
    "eeg_1s_raw = scio.loadmat('./data/subject_1_eeg_separated_epochs_1s.mat')"
   ]
  },
  {
   "cell_type": "code",
   "execution_count": 96,
   "metadata": {},
   "outputs": [],
   "source": [
    "def dataToListOfEpochs(data):\n",
    "    list = []\n",
    "    nOfEpochs = data.shape[2]\n",
    "    for i in range(nOfEpochs):\n",
    "        list.append(data[:,:,i])\n",
    "    return list\n",
    "\n",
    "def getRandomNumberOfEpochs(epochs, nofepochs, seed=None):\n",
    "    epochsLen = len( epochs )\n",
    "\n",
    "    if nofepochs > epochsLen:\n",
    "        raise Exception(\"Broj trazenih epocha veci od broja dostupnih epocha!\")\n",
    "    # Ako je dan seed koristiti ga\n",
    "    if seed != None:\n",
    "        random.seed(seed)\n",
    "    # Randomizira redosljed epocha u listi\n",
    "    random.shuffle(epochs)\n",
    "    # Reseedanje random generatora da ostatak sistema ne koristi odabrani seed\n",
    "    random.seed()\n",
    "    # Uzima prvih n epocha gjde je n broj trazenih epocha\n",
    "    return epochs[0:nofepochs]\n",
    "\n",
    "def getLabeledEpochs(raw_data, ratio, seed=None):\n",
    "        target_data = getEpochsDataFromRaw(raw_data, 0)\n",
    "        nonTarget_data = getEpochsDataFromRaw(raw_data, 1)\n",
    "\n",
    "        target_epochs = dataToListOfEpochs(target_data)\n",
    "        nonTarget_epochs = dataToListOfEpochs(nonTarget_data)\n",
    "\n",
    "        lenTarget = len(target_epochs)\n",
    "        lenNonTarget = len(nonTarget_epochs)\n",
    "\n",
    "        rndedTargetEphs = []\n",
    "        rndedNonTargetEphs = []\n",
    "\n",
    "        if lenTarget/lenNonTarget > ratio:\n",
    "            # Uzimam sve nonTarget podatke i koliko treba targeta\n",
    "            rndedNonTargetEphs = getRandomNumberOfEpochs(nonTarget_epochs, lenNonTarget, seed)\n",
    "            newLenTarget = int(lenNonTarget*ratio)\n",
    "            rndedTargetEphs = getRandomNumberOfEpochs(target_epochs, newLenTarget, seed)\n",
    "        elif lenTarget/lenNonTarget < ratio:\n",
    "            # Uzimam sve target podatke i kolito treba nontargeta\n",
    "            rndedTargetEphs = getRandomNumberOfEpochs(target_epochs, lenTarget, seed)\n",
    "            newNonTargetLen = int(lenTarget*(1/ratio))\n",
    "            rndedNonTargetEphs = getRandomNumberOfEpochs(nonTarget_epochs, newNonTargetLen, seed)\n",
    "        \n",
    "        print(len(rndedTargetEphs)/len(rndedNonTargetEphs))\n",
    "        print('total> ', len(rndedTargetEphs)+len(rndedNonTargetEphs))"
   ]
  },
  {
   "cell_type": "code",
   "execution_count": 98,
   "metadata": {},
   "outputs": [
    {
     "name": "stdout",
     "output_type": "stream",
     "text": [
      "SETNAME>  EEG target\n",
      "DATA SHAPE>  (16, 512, 305)\n",
      "SETNAME>  EEG non-target\n",
      "DATA SHAPE>  (16, 512, 6447)\n",
      "3.01980198019802\n",
      "total>  406\n"
     ]
    }
   ],
   "source": [
    "getLabeledEpochs(eeg_1s_raw, 3/1)"
   ]
  },
  {
   "cell_type": "code",
   "execution_count": null,
   "metadata": {},
   "outputs": [],
   "source": [
    "# Definiranje klase pyTorch dataseta za eeg podatke\n",
    "\n",
    "class eegDataset(Dataset):\n",
    "    def __init__(self, eeg_raw, ratio):\n",
    "        pass    \n",
    "\n",
    "    def __len__(self):\n",
    "        return len(self.epochs)"
   ]
  }
 ],
 "metadata": {
  "kernelspec": {
   "display_name": "Python 3.9.10 64-bit",
   "language": "python",
   "name": "python3"
  },
  "language_info": {
   "codemirror_mode": {
    "name": "ipython",
    "version": 3
   },
   "file_extension": ".py",
   "mimetype": "text/x-python",
   "name": "python",
   "nbconvert_exporter": "python",
   "pygments_lexer": "ipython3",
   "version": "3.9.10"
  },
  "orig_nbformat": 4,
  "vscode": {
   "interpreter": {
    "hash": "aee8b7b246df8f9039afb4144a1f6fd8d2ca17a180786b69acc140d282b71a49"
   }
  }
 },
 "nbformat": 4,
 "nbformat_minor": 2
}
